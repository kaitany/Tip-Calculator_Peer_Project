{
 "cells": [
  {
   "cell_type": "code",
   "execution_count": 1,
   "id": "70b06beb",
   "metadata": {},
   "outputs": [],
   "source": [
    "#Program objectives are:"
   ]
  },
  {
   "cell_type": "code",
   "execution_count": 2,
   "id": "9d83c7d4",
   "metadata": {},
   "outputs": [],
   "source": [
    "#Program should caculate total amount of a meal purchased with a fixed tip. "
   ]
  },
  {
   "cell_type": "code",
   "execution_count": 3,
   "id": "d96f3308",
   "metadata": {},
   "outputs": [],
   "source": [
    "#Program should ask the user to enter the charge of the food."
   ]
  },
  {
   "cell_type": "code",
   "execution_count": 4,
   "id": "91e90798",
   "metadata": {},
   "outputs": [],
   "source": [
    "#Program should calculate 18% tip and 7% sales tax on the charge of food and display the amounts."
   ]
  },
  {
   "cell_type": "code",
   "execution_count": 5,
   "id": "f02ae15f",
   "metadata": {},
   "outputs": [],
   "source": [
    "#Program should finally add all amounts and display charge of food plus tip and sales tax."
   ]
  },
  {
   "cell_type": "code",
   "execution_count": 6,
   "id": "ddedcd15",
   "metadata": {},
   "outputs": [
    {
     "name": "stdout",
     "output_type": "stream",
     "text": [
      "enter the charge for the food: 888\n"
     ]
    }
   ],
   "source": [
    "charge_for_food=float(input('enter the charge for the food: '))"
   ]
  },
  {
   "cell_type": "code",
   "execution_count": 7,
   "id": "56078f16",
   "metadata": {},
   "outputs": [],
   "source": [
    "#I created another variable i.e charge_for_food_ to accomodate the dollar sign\n",
    "#The variable enclosed the new string rounded to two decimal places."
   ]
  },
  {
   "cell_type": "code",
   "execution_count": 9,
   "id": "ed59faaa",
   "metadata": {
    "scrolled": true
   },
   "outputs": [
    {
     "name": "stdout",
     "output_type": "stream",
     "text": [
      "Your charge for the food is: $888.00\n",
      "Your tip amount is: $159.84\n",
      "Your sales tax amount is: $62.16\n",
      "your total bill amount is: $1110.00\n"
     ]
    }
   ],
   "source": [
    "charge_for_food_='$''%.2f' % (charge_for_food)\n",
    "\n",
    "perc_tip_amount=(charge_for_food * 0.18)\n",
    "\n",
    "sales_tax_amount=(charge_for_food * 0.07)\n",
    "\n",
    "total_bill_amount=charge_for_food + perc_tip_amount + sales_tax_amount\n",
    "\n",
    "\n",
    "print('Your charge for the food is:',charge_for_food_)\n",
    "\n",
    "print('Your tip amount is: $' '%.2f' % perc_tip_amount)\n",
    "\n",
    "print('Your sales tax amount is: $' '%.2f' % sales_tax_amount)\n",
    "\n",
    "print('your total bill amount is: $' '%.2f' % total_bill_amount)\n",
    "           "
   ]
  }
 ],
 "metadata": {
  "kernelspec": {
   "display_name": "Python 3 (ipykernel)",
   "language": "python",
   "name": "python3"
  },
  "language_info": {
   "codemirror_mode": {
    "name": "ipython",
    "version": 3
   },
   "file_extension": ".py",
   "mimetype": "text/x-python",
   "name": "python",
   "nbconvert_exporter": "python",
   "pygments_lexer": "ipython3",
   "version": "3.10.9"
  }
 },
 "nbformat": 4,
 "nbformat_minor": 5
}
